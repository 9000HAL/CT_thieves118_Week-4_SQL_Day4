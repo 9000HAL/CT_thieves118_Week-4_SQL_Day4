Name: bulbasaur
Ability: overgrow
Base Experience: 64

Name: charmander
Ability: blaze
Base Experience: 62

Name: squirtle
Ability: torrent
Base Experience: 63

Name: pikachu
Ability: static
Base Experience: 112

Name: jigglypuff
Ability: cute-charm
Base Experience: 95

Sprite URL for Pokemon 1
https://raw.githubusercontent.com/PokeAPI/sprites/master/sprites/pokemon/shiny/1.png

Sprite URL for Pokemon 2
https://raw.githubusercontent.com/PokeAPI/sprites/master/sprites/pokemon/shiny/4.png

Sprite URL for Pokemon 3
https://raw.githubusercontent.com/PokeAPI/sprites/master/sprites/pokemon/shiny/7.png

Sprite URL for Pokemon 4
https://raw.githubusercontent.com/PokeAPI/sprites/master/sprites/pokemon/shiny/25.png

Sprite URL for Pokemon 5
https://raw.githubusercontent.com/PokeAPI/sprites/master/sprites/pokemon/shiny/39.png

